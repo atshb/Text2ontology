{
 "cells": [
  {
   "cell_type": "code",
   "execution_count": 13,
   "metadata": {},
   "outputs": [],
   "source": [
    "import os\n",
    "import torch\n",
    "import torch.nn as nn\n",
    "import torch.optim as optim\n",
    "import torch.utils.tensorboard as tb\n",
    "from transformers import BertTokenizer, BertModel"
   ]
  },
  {
   "cell_type": "code",
   "execution_count": 14,
   "metadata": {},
   "outputs": [],
   "source": [
    "weights = 'bert-base-uncased'\n",
    "tokenizer = BertTokenizer.from_pretrained(weights)\n",
    "model = BertModel.from_pretrained(weights)"
   ]
  },
  {
   "cell_type": "code",
   "execution_count": 19,
   "metadata": {},
   "outputs": [],
   "source": [
    "tkzr = Tkzr(tokenizer)\n",
    "texts = ['I sit in bank', 'Borrowed money at the bank']\n",
    "\n",
    "writer = tb.SummaryWriter('plots2')\n",
    "\n",
    "embeds_list = []\n",
    "tokens_list = []\n",
    "for i, t in enumerate(texts):\n",
    "    tokens  = ['[CLS'] + tokenizer.tokenize(t) + ['SEP']\n",
    "    encoded = tokenizer.encode_plus(t)['input_ids']\n",
    "\n",
    "    tokens  = [f'{tkn}:{i}' for tkn in tokens]\n",
    "    \n",
    "    x = torch.tensor(encoded).unsqueeze(0)\n",
    "    y, h = model(x)\n",
    "    \n",
    "    \n",
    "    embeds_list.append(y[0])\n",
    "    tokens_list.extend(tokens)\n",
    "    \n",
    "embeds = torch.cat(embeds_list, 0)\n",
    "\n",
    "print(embeds.size())\n",
    "\n",
    "# writer.add_embedding(embeds_list, metadata=tokens, tag=t)\n",
    "    \n",
    "# writer.close()"
   ]
  },
  {
   "cell_type": "code",
   "execution_count": 6,
   "metadata": {},
   "outputs": [
    {
     "name": "stdout",
     "output_type": "stream",
     "text": [
      "torch.Size([1, 7])\n",
      "tensor([[ 101, 1045, 2031, 1037, 7279, 1012,  102]])\n"
     ]
    }
   ],
   "source": [
    "x = torch.tensor(encoded)\n",
    "print(x.size())\n",
    "print(x)"
   ]
  },
  {
   "cell_type": "code",
   "execution_count": 7,
   "metadata": {},
   "outputs": [
    {
     "name": "stdout",
     "output_type": "stream",
     "text": [
      "torch.Size([1, 7, 768])\n",
      "torch.Size([5, 768])\n"
     ]
    }
   ],
   "source": [
    "y, h = model(x)\n",
    "print(y.size())\n",
    "embeds = y[0][1:-1]\n",
    "print(embeds.size())"
   ]
  },
  {
   "cell_type": "code",
   "execution_count": 8,
   "metadata": {},
   "outputs": [
    {
     "name": "stdout",
     "output_type": "stream",
     "text": [
      "i torch.Size([768])\n",
      "have torch.Size([768])\n",
      "a torch.Size([768])\n",
      "pen torch.Size([768])\n",
      ". torch.Size([768])\n"
     ]
    }
   ],
   "source": [
    "for w, e in zip(tokens, embeds):\n",
    "    print(w, e.size())"
   ]
  },
  {
   "cell_type": "code",
   "execution_count": 9,
   "metadata": {},
   "outputs": [],
   "source": [
    "writer = tb.SummaryWriter('plots')"
   ]
  },
  {
   "cell_type": "code",
   "execution_count": 10,
   "metadata": {},
   "outputs": [
    {
     "name": "stdout",
     "output_type": "stream",
     "text": [
      "warning: Embedding dir exists, did you set global_step for add_embedding()?\n"
     ]
    }
   ],
   "source": [
    "writer.add_embedding(embeds, metadata=tokens)\n",
    "writer.close()"
   ]
  },
  {
   "cell_type": "code",
   "execution_count": null,
   "metadata": {},
   "outputs": [],
   "source": []
  }
 ],
 "metadata": {
  "kernelspec": {
   "display_name": "Python 3",
   "language": "python",
   "name": "python3"
  },
  "language_info": {
   "codemirror_mode": {
    "name": "ipython",
    "version": 3
   },
   "file_extension": ".py",
   "mimetype": "text/x-python",
   "name": "python",
   "nbconvert_exporter": "python",
   "pygments_lexer": "ipython3",
   "version": "3.7.3"
  }
 },
 "nbformat": 4,
 "nbformat_minor": 4
}
