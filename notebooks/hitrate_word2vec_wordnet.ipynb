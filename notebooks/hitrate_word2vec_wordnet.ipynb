{
 "cells": [
  {
   "cell_type": "code",
   "execution_count": 1,
   "metadata": {},
   "outputs": [],
   "source": [
    "import torch\n",
    "import torch.utils.data as data\n",
    "import numpy  as np\n",
    "import pandas as pd"
   ]
  },
  {
   "cell_type": "code",
   "execution_count": 8,
   "metadata": {},
   "outputs": [],
   "source": [
    "'''\n",
    "WordnetDataset\n",
    "    Wordnetから取得したデータを扱うクラス。\n",
    "    data   : 語句のペア\n",
    "    labels : 関係性ラベル（同義語、上位下位、下位上位、無関係）\n",
    "'''\n",
    "class WordnetDataset(data.Dataset):\n",
    "\n",
    "    def __init__(self, mode='train', num_data=-1, transform=None):\n",
    "        # 読み込み\n",
    "        if   mode == 'train': data = pd.read_pickle('../data/wordnet/train.pkl')\n",
    "        elif mode == 'valid': data = pd.read_pickle('../data/wordnet/valid.pkl')\n",
    "        elif mode == 'test' : data = pd.read_pickle('../data/wordnet/test.pkl' )\n",
    "        #\n",
    "        self.data   = [(a, b) for a, b, _ in data[:num_data]]\n",
    "        self.labels = [l      for _, _, l in data[:num_data]]\n",
    "        self.transform = transform\n",
    "\n",
    "    def __len__(self):\n",
    "        return len(self.data)\n",
    "\n",
    "    def __getitem__(self, idx):\n",
    "        x = self.data[idx]\n",
    "        y = self.labels[idx]\n",
    "        if self.transform: x = self.transform(x)\n",
    "        return x, y"
   ]
  },
  {
   "cell_type": "code",
   "execution_count": 9,
   "metadata": {},
   "outputs": [],
   "source": [
    "w2v = pd.read_pickle('../data/word2vec/word2vec.pkl')"
   ]
  },
  {
   "cell_type": "code",
   "execution_count": 12,
   "metadata": {},
   "outputs": [
    {
     "name": "stdout",
     "output_type": "stream",
     "text": [
      "1046765\n",
      "9999\n",
      "9999\n",
      "64820739\n",
      "68023119\n",
      "0.9529221822363071\n"
     ]
    }
   ],
   "source": [
    "train = WordnetDataset('train')\n",
    "valid = WordnetDataset('valid')\n",
    "test  = WordnetDataset('test' )\n",
    "\n",
    "count_regist = 0\n",
    "count_total  = 0\n",
    "for d in [train, valid, test]:\n",
    "    print(len(d))\n",
    "    for (a, b), l in train:\n",
    "        count_regist += sum(w in w2v for w in a+b)\n",
    "        count_total  += len(a+b)\n",
    "\n",
    "print(count_regist)\n",
    "print(count_total )\n",
    "print(count_regist / count_total)"
   ]
  },
  {
   "cell_type": "code",
   "execution_count": null,
   "metadata": {},
   "outputs": [],
   "source": []
  }
 ],
 "metadata": {
  "kernelspec": {
   "display_name": "Python 3",
   "language": "python",
   "name": "python3"
  },
  "language_info": {
   "codemirror_mode": {
    "name": "ipython",
    "version": 3
   },
   "file_extension": ".py",
   "mimetype": "text/x-python",
   "name": "python",
   "nbconvert_exporter": "python",
   "pygments_lexer": "ipython3",
   "version": "3.7.3"
  }
 },
 "nbformat": 4,
 "nbformat_minor": 4
}
